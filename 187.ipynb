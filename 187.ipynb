{
 "cells": [
  {
   "cell_type": "code",
   "execution_count": 1,
   "id": "3e6362b8",
   "metadata": {},
   "outputs": [],
   "source": [
    "# github.com/echtr"
   ]
  },
  {
   "cell_type": "code",
   "execution_count": 2,
   "id": "ff39839b",
   "metadata": {},
   "outputs": [],
   "source": [
    "import numpy as np"
   ]
  },
  {
   "cell_type": "code",
   "execution_count": 4,
   "id": "06bb80fd",
   "metadata": {},
   "outputs": [],
   "source": [
    "rng = np.random.RandomState(123)"
   ]
  },
  {
   "cell_type": "code",
   "execution_count": 5,
   "id": "55cf25ca",
   "metadata": {},
   "outputs": [
    {
     "name": "stdout",
     "output_type": "stream",
     "text": [
      "Atış sayısı: 2  ---  Yazı Gelme İhtimali 50.00\n",
      "Atış sayısı: 4  ---  Yazı Gelme İhtimali 0.00\n",
      "Atış sayısı: 8  ---  Yazı Gelme İhtimali 62.50\n",
      "Atış sayısı: 16  ---  Yazı Gelme İhtimali 43.75\n",
      "Atış sayısı: 32  ---  Yazı Gelme İhtimali 46.88\n",
      "Atış sayısı: 64  ---  Yazı Gelme İhtimali 56.25\n",
      "Atış sayısı: 128  ---  Yazı Gelme İhtimali 50.78\n",
      "Atış sayısı: 256  ---  Yazı Gelme İhtimali 52.73\n",
      "Atış sayısı: 512  ---  Yazı Gelme İhtimali 52.93\n",
      "Atış sayısı: 1024  ---  Yazı Gelme İhtimali 50.20\n",
      "Atış sayısı: 2048  ---  Yazı Gelme İhtimali 48.58\n",
      "Atış sayısı: 4096  ---  Yazı Gelme İhtimali 49.49\n",
      "Atış sayısı: 8192  ---  Yazı Gelme İhtimali 49.58\n",
      "Atış sayısı: 16384  ---  Yazı Gelme İhtimali 49.96\n"
     ]
    }
   ],
   "source": [
    "for i in np.arange(1, 15):\n",
    "    deney_sayisi = 2**i\n",
    "    yazi_turalar = rng.randint(0, 2, size=deney_sayisi)\n",
    "    yazi_olasiliklari = np.mean(yazi_turalar)\n",
    "    print(\"Atış sayısı:\", deney_sayisi,\" --- \", \"Yazı Gelme İhtimali %.2f\" % (yazi_olasiliklari * 100))"
   ]
  }
 ],
 "metadata": {
  "kernelspec": {
   "display_name": "Python 3 (ipykernel)",
   "language": "python",
   "name": "python3"
  },
  "language_info": {
   "codemirror_mode": {
    "name": "ipython",
    "version": 3
   },
   "file_extension": ".py",
   "mimetype": "text/x-python",
   "name": "python",
   "nbconvert_exporter": "python",
   "pygments_lexer": "ipython3",
   "version": "3.9.4"
  }
 },
 "nbformat": 4,
 "nbformat_minor": 5
}
