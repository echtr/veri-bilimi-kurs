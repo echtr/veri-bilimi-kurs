{
 "cells": [
  {
   "cell_type": "code",
   "execution_count": 1,
   "id": "43888274",
   "metadata": {},
   "outputs": [],
   "source": [
    "# github.com/echtr"
   ]
  },
  {
   "cell_type": "code",
   "execution_count": 2,
   "id": "531c73c4",
   "metadata": {},
   "outputs": [],
   "source": [
    "from scipy.stats import binom"
   ]
  },
  {
   "cell_type": "code",
   "execution_count": 3,
   "id": "d4ea0df5",
   "metadata": {},
   "outputs": [],
   "source": [
    "p = 0.01 # reklama tıklanma ihtimali\n",
    "n = 100 # siteye giren kişi sayısı\n",
    "rv = binom(n, p)"
   ]
  },
  {
   "cell_type": "code",
   "execution_count": 6,
   "id": "72d2f0a7",
   "metadata": {},
   "outputs": [
    {
     "data": {
      "text/plain": [
       "0.36972963764972666"
      ]
     },
     "execution_count": 6,
     "metadata": {},
     "output_type": "execute_result"
    }
   ],
   "source": [
    "rv.pmf(1) # 100 kişiden 1 kişinin reklama tıklama ihtimali"
   ]
  },
  {
   "cell_type": "code",
   "execution_count": 7,
   "id": "273591e9",
   "metadata": {},
   "outputs": [
    {
     "data": {
      "text/plain": [
       "0.002897787123761478"
      ]
     },
     "execution_count": 7,
     "metadata": {},
     "output_type": "execute_result"
    }
   ],
   "source": [
    "rv.pmf(5) # 100 kişiden 5 kişinin reklama tıklama ihtimali"
   ]
  },
  {
   "cell_type": "code",
   "execution_count": 8,
   "id": "3074d5d3",
   "metadata": {},
   "outputs": [
    {
     "data": {
      "text/plain": [
       "7.006035693977194e-08"
      ]
     },
     "execution_count": 8,
     "metadata": {},
     "output_type": "execute_result"
    }
   ],
   "source": [
    "rv.pmf(10) # 100 kişiden 10 kişinin reklama tıklama ihtimali"
   ]
  }
 ],
 "metadata": {
  "kernelspec": {
   "display_name": "Python 3 (ipykernel)",
   "language": "python",
   "name": "python3"
  },
  "language_info": {
   "codemirror_mode": {
    "name": "ipython",
    "version": 3
   },
   "file_extension": ".py",
   "mimetype": "text/x-python",
   "name": "python",
   "nbconvert_exporter": "python",
   "pygments_lexer": "ipython3",
   "version": "3.9.4"
  }
 },
 "nbformat": 4,
 "nbformat_minor": 5
}
